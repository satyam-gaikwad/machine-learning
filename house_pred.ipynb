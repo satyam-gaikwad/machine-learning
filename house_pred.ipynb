{
  "cells": [
    {
      "cell_type": "markdown",
      "metadata": {
        "id": "view-in-github",
        "colab_type": "text"
      },
      "source": [
        "<a href=\"https://colab.research.google.com/github/satyam-gaikwad/machine-learning/blob/supervised-learning/house_pred.ipynb\" target=\"_parent\"><img src=\"https://colab.research.google.com/assets/colab-badge.svg\" alt=\"Open In Colab\"/></a>"
      ]
    },
    {
      "cell_type": "markdown",
      "source": [
        "House price prediction using gradient descent"
      ],
      "metadata": {
        "id": "TDCMesuE2kw0"
      }
    },
    {
      "cell_type": "code",
      "source": [
        "import pandas as pd\n",
        "import matplotlib.pyplot as plt\n",
        "import numpy as np"
      ],
      "metadata": {
        "id": "ihsmSdrt_aiU"
      },
      "execution_count": null,
      "outputs": []
    },
    {
      "cell_type": "code",
      "source": [
        "df=pd.read_csv(\"/content/drive/MyDrive/DS-ML/house-pred.csv\")\n",
        "x1 = df.sqft_living\n",
        "x2 = df.floors\n",
        "x3 = df.bedrooms\n",
        "y = df.price"
      ],
      "metadata": {
        "id": "R_g48Bdx6keJ"
      },
      "execution_count": null,
      "outputs": []
    },
    {
      "cell_type": "code",
      "source": [
        "list(df)"
      ],
      "metadata": {
        "colab": {
          "base_uri": "https://localhost:8080/"
        },
        "id": "AsBYPJfw6nPQ",
        "outputId": "fe61289f-4c19-43b5-e330-ac5ec37916f0"
      },
      "execution_count": null,
      "outputs": [
        {
          "output_type": "execute_result",
          "data": {
            "text/plain": [
              "['date',\n",
              " 'price',\n",
              " 'bedrooms',\n",
              " 'bathrooms',\n",
              " 'sqft_living',\n",
              " 'sqft_lot',\n",
              " 'floors',\n",
              " 'waterfront',\n",
              " 'view',\n",
              " 'condition',\n",
              " 'sqft_above',\n",
              " 'sqft_basement',\n",
              " 'yr_built',\n",
              " 'yr_renovated',\n",
              " 'street',\n",
              " 'city',\n",
              " 'statezip',\n",
              " 'country']"
            ]
          },
          "metadata": {},
          "execution_count": 3
        }
      ]
    },
    {
      "cell_type": "code",
      "source": [
        "x1 = (x1-x1.mean())/x1.std()\n",
        "x2 = (x2-x2.mean())/x2.std()\n",
        "x3 = (x3-x3.mean())/x3.std()\n",
        "y = (y-y.mean())/y.std()"
      ],
      "metadata": {
        "id": "UHRZpoGo6sb6"
      },
      "execution_count": null,
      "outputs": []
    },
    {
      "cell_type": "code",
      "source": [
        "theta0=0\n",
        "theta1=0\n",
        "theta2=0\n",
        "theta3=0\n",
        "alpha = 0.1\n",
        "n = len(x1)\n",
        "iterat = 20000\n",
        "yp = []\n",
        "\n",
        "for i in range(iterat):\n",
        "    y_pred = theta0 + (theta1*x1) + (theta2*x2) + (theta3*x3)\n",
        "    cf = (1/n)*sum((y_pred-y)**2)\n",
        "    yp.append(cf)\n",
        "    D0 = (2/n)*sum(y_pred-y)\n",
        "    D1 = (2/n)*(sum(x1*(y_pred-y)))\n",
        "    D2 = (2/n)*(sum(x2*(y_pred-y)))\n",
        "    D3 = (2/n)*(sum(x3*(y_pred-y)))\n",
        "    theta0 = theta0 - (alpha*D0)\n",
        "    theta1 = theta1 - (alpha*D1)\n",
        "    theta2 = theta2 - (alpha*D2)\n",
        "    theta3 = theta3 - (alpha*D3)\n",
        " \n",
        "print(theta0,theta1,theta2, theta3)"
      ],
      "metadata": {
        "colab": {
          "base_uri": "https://localhost:8080/"
        },
        "id": "2D_notxG6uID",
        "outputId": "d6f0aed2-704e-4987-cd43-58a34fba57ae"
      },
      "execution_count": null,
      "outputs": [
        {
          "output_type": "stream",
          "name": "stdout",
          "text": [
            "1.3966122944134213e-16 0.4814131945841502 0.0007775728091725617 -0.0861870721781515\n"
          ]
        }
      ]
    },
    {
      "cell_type": "code",
      "source": [
        "y_pred = theta0 + (theta1*x1) + (theta2*x2) + (theta3*x3)\n",
        "z = 9\n",
        "plt.scatter(x1,y)\n",
        "for i in y_pred:\n",
        "  plt.plot([max(x1),min(x1)],[max(y_pred),min(y_pred)],color=\"red\")\n",
        "plt.scatter(z,(theta0 + (theta1*z) + (theta2*z)+(theta3*z)),color=\"yellow\")\n",
        "plt.show()\n"
      ],
      "metadata": {
        "colab": {
          "base_uri": "https://localhost:8080/",
          "height": 265
        },
        "id": "z_AzGtIS6zPb",
        "outputId": "e4c8e5a1-0d51-4381-c0be-7da4f92d3580"
      },
      "execution_count": null,
      "outputs": [
        {
          "output_type": "display_data",
          "data": {
            "text/plain": [
              "<Figure size 432x288 with 1 Axes>"
            ],
            "image/png": "[encoded data removed]"
          },
          "metadata": {
            "needs_background": "light"
          }
        }
      ]
    },
    {
      "cell_type": "code",
      "source": [],
      "metadata": {
        "id": "3LrL4UMUK_nr"
      },
      "execution_count": null,
      "outputs": []
    }
  ],
  "metadata": {
    "colab": {
      "provenance": [],
      "mount_file_id": "1juU4A0Ul1A5mQkWjvDVS5PHSVbUsbe8G",
      "authorship_tag": "ABX9TyP6hP94f96U/jNfp+6EkCIS",
      "include_colab_link": true
    },
    "kernelspec": {
      "display_name": "Python 3",
      "name": "python3"
    },
    "language_info": {
      "name": "python"
    }
  },
  "nbformat": 4,
  "nbformat_minor": 0
}